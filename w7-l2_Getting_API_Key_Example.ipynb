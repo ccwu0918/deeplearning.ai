{
  "cells": [
    {
      "cell_type": "markdown",
      "metadata": {
        "id": "view-in-github",
        "colab_type": "text"
      },
      "source": [
        "<a href=\"https://colab.research.google.com/github/ccwu0918/deeplearning.ai/blob/main/w7-l2_Getting_API_Key_Example.ipynb\" target=\"_parent\"><img src=\"https://colab.research.google.com/assets/colab-badge.svg\" alt=\"Open In Colab\"/></a>"
      ]
    },
    {
      "cell_type": "markdown",
      "id": "65f73be8-87fa-4924-b2f1-76f04288b9fc",
      "metadata": {
        "id": "65f73be8-87fa-4924-b2f1-76f04288b9fc"
      },
      "source": [
        "# Example of getting OpenAI API key"
      ]
    },
    {
      "cell_type": "code",
      "source": [
        "!git clone https://github.com/ccwu0918/deeplearning.ai"
      ],
      "metadata": {
        "colab": {
          "base_uri": "https://localhost:8080/"
        },
        "id": "59jvxf_eSXsq",
        "outputId": "74b24b09-3f0e-46b1-b4d9-58ddd15bb0b9"
      },
      "execution_count": 1,
      "outputs": [
        {
          "output_type": "stream",
          "name": "stdout",
          "text": [
            "Cloning into 'deeplearning.ai'...\n",
            "remote: Enumerating objects: 98, done.\u001b[K\n",
            "remote: Counting objects: 100% (43/43), done.\u001b[K\n",
            "remote: Compressing objects: 100% (43/43), done.\u001b[K\n",
            "remote: Total 98 (delta 21), reused 0 (delta 0), pack-reused 55\u001b[K\n",
            "Receiving objects: 100% (98/98), 491.23 KiB | 8.77 MiB/s, done.\n",
            "Resolving deltas: 100% (46/46), done.\n"
          ]
        }
      ],
      "id": "59jvxf_eSXsq"
    },
    {
      "cell_type": "code",
      "source": [
        "%cd /content/deeplearning.ai/extras"
      ],
      "metadata": {
        "colab": {
          "base_uri": "https://localhost:8080/"
        },
        "id": "n69lX43jW1K9",
        "outputId": "266ce0df-8c06-43d2-e68c-b5f8e5544614"
      },
      "execution_count": 2,
      "outputs": [
        {
          "output_type": "stream",
          "name": "stdout",
          "text": [
            "/content/deeplearning.ai/extras\n"
          ]
        }
      ],
      "id": "n69lX43jW1K9"
    },
    {
      "cell_type": "code",
      "execution_count": 4,
      "id": "6ec7c45a-8adb-4c10-bcb7-538542adb665",
      "metadata": {
        "colab": {
          "base_uri": "https://localhost:8080/"
        },
        "id": "6ec7c45a-8adb-4c10-bcb7-538542adb665",
        "outputId": "415ab513-806c-4e95-ad00-bb8fb764d948"
      },
      "outputs": [
        {
          "output_type": "stream",
          "name": "stdout",
          "text": [
            "Collecting python-dotenv\n",
            "  Downloading python_dotenv-1.0.1-py3-none-any.whl (19 kB)\n",
            "Installing collected packages: python-dotenv\n",
            "Successfully installed python-dotenv-1.0.1\n"
          ]
        }
      ],
      "source": [
        "!pip install python-dotenv"
      ]
    },
    {
      "cell_type": "code",
      "execution_count": 5,
      "id": "2adfea5d-2c7c-442d-a679-3a5a5ba41e91",
      "metadata": {
        "id": "2adfea5d-2c7c-442d-a679-3a5a5ba41e91"
      },
      "outputs": [],
      "source": [
        "from utils import get_openai_api_key\n",
        "\n",
        "get_openai_api_key()"
      ]
    },
    {
      "cell_type": "markdown",
      "id": "9e52d9b7-3a4f-4834-a2b4-50fd625e507e",
      "metadata": {
        "id": "9e52d9b7-3a4f-4834-a2b4-50fd625e507e"
      },
      "source": [
        "Put the API keys in a file named `.env` in the root directory of the github repo\n",
        "It will look something like this:\n",
        "```\n",
        "OPENAI_API_KEY=\"abc123\"\n",
        "HUGGINGFACE_API_KEY=\"xyz789\"\n",
        "```\n",
        "\n",
        "Also install Python dotenv:\n",
        "```!pip install python-dotenv```"
      ]
    }
  ],
  "metadata": {
    "kernelspec": {
      "display_name": "Python 3 (ipykernel)",
      "language": "python",
      "name": "python3"
    },
    "language_info": {
      "codemirror_mode": {
        "name": "ipython",
        "version": 3
      },
      "file_extension": ".py",
      "mimetype": "text/x-python",
      "name": "python",
      "nbconvert_exporter": "python",
      "pygments_lexer": "ipython3",
      "version": "3.10.9"
    },
    "colab": {
      "provenance": [],
      "include_colab_link": true
    }
  },
  "nbformat": 4,
  "nbformat_minor": 5
}